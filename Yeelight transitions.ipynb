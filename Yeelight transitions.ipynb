{
 "cells": [
  {
   "cell_type": "code",
   "execution_count": 1,
   "metadata": {},
   "outputs": [],
   "source": [
    "from yeelight import *\n",
    "from yeelight.transitions import *\n",
    "from time import sleep"
   ]
  },
  {
   "cell_type": "code",
   "execution_count": 30,
   "metadata": {},
   "outputs": [],
   "source": [
    "# Get bulb by name\n",
    "def get_bulb(bulbs, name, **kwargs):\n",
    "    match = [b for b in bulbs if b['capabilities']['name'] == name]\n",
    "    if len(match) == 1:\n",
    "        return Bulb(match[0]['ip'], auto_on=False, **kwargs)\n",
    "    else:\n",
    "        return None"
   ]
  },
  {
   "cell_type": "markdown",
   "metadata": {},
   "source": [
    "## Discover and rename lamps\n",
    "Discover all light bulbs and print those without the name"
   ]
  },
  {
   "cell_type": "code",
   "execution_count": 3,
   "metadata": {},
   "outputs": [
    {
     "data": {
      "text/plain": [
       "[]"
      ]
     },
     "execution_count": 3,
     "metadata": {},
     "output_type": "execute_result"
    }
   ],
   "source": [
    "bulbs = discover_bulbs()\n",
    "unnamed = [b for b in bulbs if not b['capabilities']['name']]\n",
    "unnamed"
   ]
  },
  {
   "cell_type": "markdown",
   "metadata": {},
   "source": [
    "Give names to unnamed lamps"
   ]
  },
  {
   "cell_type": "code",
   "execution_count": 4,
   "metadata": {},
   "outputs": [],
   "source": [
    "if unnamed:\n",
    "    Bulb(unnamed[0]['ip']).set_name('nightstand')"
   ]
  },
  {
   "cell_type": "markdown",
   "metadata": {},
   "source": [
    "# Names of available lamps"
   ]
  },
  {
   "cell_type": "code",
   "execution_count": 5,
   "metadata": {},
   "outputs": [
    {
     "name": "stdout",
     "output_type": "stream",
     "text": [
      "bed,  bedroom 1,  bedroom 2,  fireplace,  ikea lamp,  kitchen 1,  nightstand\n"
     ]
    }
   ],
   "source": [
    "bulbs = discover_bulbs()\n",
    "print(',  '.join(sorted([b['capabilities']['name'] for b in bulbs])))"
   ]
  },
  {
   "cell_type": "markdown",
   "metadata": {},
   "source": [
    "# Define flows and transitions\n",
    "First, define transitions"
   ]
  },
  {
   "cell_type": "code",
   "execution_count": 11,
   "metadata": {},
   "outputs": [],
   "source": [
    "M = 1000"
   ]
  },
  {
   "cell_type": "code",
   "execution_count": 12,
   "metadata": {},
   "outputs": [],
   "source": [
    "# Sleep delay\n",
    "slp = lambda t=1:  SleepTransition(duration=t*M)\n",
    "\n",
    "# Dark red sun\n",
    "red = lambda t=0, b=1:  HSVTransition(360, 100, duration=t*M, brightness=b)\n",
    "\n",
    "# Bright reddish\n",
    "reddish  = lambda t=1, b=60: TemperatureTransition(1700, duration=t*M, brightness=b)\n",
    "\n",
    "# Bright warm white\n",
    "warm_w   = lambda t=1, b=70: TemperatureTransition(3700, duration=t*M, brightness=b)\n",
    "\n",
    "# Bright cool white\n",
    "cool_w   = lambda t=1, b=100: TemperatureTransition(6500, duration=t*M, brightness=b)\n"
   ]
  },
  {
   "cell_type": "markdown",
   "metadata": {},
   "source": [
    "# Turn everything off"
   ]
  },
  {
   "cell_type": "code",
   "execution_count": 31,
   "metadata": {},
   "outputs": [
    {
     "data": {
      "text/plain": [
       "'ok'"
      ]
     },
     "execution_count": 31,
     "metadata": {},
     "output_type": "execute_result"
    }
   ],
   "source": [
    "ikea = get_bulb(bulbs, 'ikea lamp');\n",
    "ikea.turn_off()\n",
    "nstand = get_bulb(bulbs, 'nightstand');\n",
    "nstand.turn_off()\n",
    "b1 = get_bulb(bulbs, 'bedroom 1');\n",
    "b1.turn_off()\n",
    "b2 = get_bulb(bulbs, 'bedroom 2');\n",
    "b2.turn_off()\n",
    "bed = get_bulb(bulbs, 'bed');\n",
    "bed.turn_off()"
   ]
  },
  {
   "cell_type": "code",
   "execution_count": 32,
   "metadata": {},
   "outputs": [],
   "source": [
    "activate = lambda lamp, transitions: get_bulb(bulbs, lamp).start_flow(\n",
    "    Flow(\n",
    "        count=1,\n",
    "        action=Flow.actions.stay,\n",
    "        transitions=transitions\n",
    "    )\n",
    ")"
   ]
  },
  {
   "cell_type": "code",
   "execution_count": 33,
   "metadata": {},
   "outputs": [],
   "source": [
    "basic_transitions = [\n",
    "        reddish(5, 60),\n",
    "        warm_w(10, 80),\n",
    "        cool_w(5, 100),\n",
    "]"
   ]
  },
  {
   "cell_type": "code",
   "execution_count": 47,
   "metadata": {},
   "outputs": [],
   "source": [
    "bed_tr    = [red(5, 50), red(5, 70), *basic_transitions]\n",
    "ikea_tr   = [red(5, 1), red(5, 50), *basic_transitions]\n",
    "nstand_tr = [slp(6), red(0, 1), red(4, 40), *basic_transitions]\n",
    "b1_tr     = [slp(8), red(0, 1), red(2, 30), *basic_transitions]\n",
    "b2_tr     = [slp(9), red(0, 1), red(1, 20), *basic_transitions]"
   ]
  },
  {
   "cell_type": "code",
   "execution_count": 35,
   "metadata": {},
   "outputs": [
    {
     "data": {
      "text/plain": [
       "'ok'"
      ]
     },
     "execution_count": 35,
     "metadata": {},
     "output_type": "execute_result"
    }
   ],
   "source": [
    "activate(\"bed\", bed_tr)\n",
    "activate(\"ikea lamp\", ikea_tr)\n",
    "activate(\"nightstand\", nstand_tr)\n",
    "activate(\"bedroom 1\", b1_tr)\n",
    "activate(\"bedroom 2\", b2_tr)"
   ]
  },
  {
   "cell_type": "markdown",
   "metadata": {},
   "source": [
    "# END"
   ]
  },
  {
   "cell_type": "code",
   "execution_count": 56,
   "metadata": {},
   "outputs": [
    {
     "data": {
      "text/plain": [
       "'ok'"
      ]
     },
     "execution_count": 56,
     "metadata": {},
     "output_type": "execute_result"
    }
   ],
   "source": [
    "activate(\"ikea lamp\", ikea_tr)"
   ]
  },
  {
   "cell_type": "code",
   "execution_count": 57,
   "metadata": {},
   "outputs": [
    {
     "data": {
      "text/plain": [
       "'ok'"
      ]
     },
     "execution_count": 57,
     "metadata": {},
     "output_type": "execute_result"
    }
   ],
   "source": [
    "ikea.turn_off()"
   ]
  },
  {
   "cell_type": "code",
   "execution_count": null,
   "metadata": {},
   "outputs": [],
   "source": [
    "get_bulb(bulbs, 'bedroom 1').start_flow(flow)"
   ]
  },
  {
   "cell_type": "code",
   "execution_count": null,
   "metadata": {},
   "outputs": [],
   "source": [
    "get_bulb(bulbs, 'bedroom 2').start_flow(flow)"
   ]
  },
  {
   "cell_type": "code",
   "execution_count": null,
   "metadata": {},
   "outputs": [],
   "source": []
  },
  {
   "cell_type": "code",
   "execution_count": 6,
   "metadata": {
    "scrolled": true
   },
   "outputs": [],
   "source": [
    "b = get_bulb(bulbs, 'bed')"
   ]
  },
  {
   "cell_type": "code",
   "execution_count": 9,
   "metadata": {},
   "outputs": [
    {
     "data": {
      "text/plain": [
       "'ok'"
      ]
     },
     "execution_count": 9,
     "metadata": {},
     "output_type": "execute_result"
    }
   ],
   "source": [
    "Bulb('192.168.1.6').toggle()"
   ]
  },
  {
   "cell_type": "code",
   "execution_count": null,
   "metadata": {},
   "outputs": [],
   "source": [
    "b.set_color_temp"
   ]
  }
 ],
 "metadata": {
  "kernelspec": {
   "display_name": "Python 3",
   "language": "python",
   "name": "python3"
  },
  "language_info": {
   "codemirror_mode": {
    "name": "ipython",
    "version": 3
   },
   "file_extension": ".py",
   "mimetype": "text/x-python",
   "name": "python",
   "nbconvert_exporter": "python",
   "pygments_lexer": "ipython3",
   "version": "3.7.3"
  }
 },
 "nbformat": 4,
 "nbformat_minor": 2
}
